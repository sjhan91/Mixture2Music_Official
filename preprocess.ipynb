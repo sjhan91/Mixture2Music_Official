{
 "cells": [
  {
   "cell_type": "code",
   "execution_count": 1,
   "metadata": {},
   "outputs": [],
   "source": [
    "import json\n",
    "import pretty_midi\n",
    "import IPython.display\n",
    "\n",
    "import numpy as np\n",
    "import matplotlib.pyplot as plt\n",
    "\n",
    "from glob import glob\n",
    "from time import time\n",
    "from collections import Counter\n",
    "from utils.common_utils import *\n",
    "\n",
    "%load_ext blackcellmagic\n",
    "%load_ext autoreload\n",
    "%autoreload 2\n",
    "\n",
    "plt.style.use('seaborn')"
   ]
  },
  {
   "cell_type": "markdown",
   "metadata": {},
   "source": [
    "#### Load Melody Track List"
   ]
  },
  {
   "cell_type": "code",
   "execution_count": 2,
   "metadata": {},
   "outputs": [
    {
     "name": "stdout",
     "output_type": "stream",
     "text": [
      "The number of melody_track_dict : 63968\n"
     ]
    }
   ],
   "source": [
    "with open('./melody_track_dict.json', 'r') as f:\n",
    "    melody_track_dict = json.load(f)\n",
    "\n",
    "new_melody_track_dict = {}\n",
    "for old_key in melody_track_dict:\n",
    "    new_key = old_key.split('/')[-1]\n",
    "    new_melody_track_dict[new_key] = melody_track_dict[old_key]\n",
    "\n",
    "print('The number of melody_track_dict :', len(new_melody_track_dict))"
   ]
  },
  {
   "cell_type": "code",
   "execution_count": null,
   "metadata": {},
   "outputs": [],
   "source": [
    "data_path = '/workspace/music/data/lakh/'\n",
    "output_path = '/workspace/music/data/lakh_melody2music_res_4_bar_4/'\n",
    "\n",
    "phrase_count = 0\n",
    "melody_count = 0\n",
    "no_melody_count = 0\n",
    "\n",
    "melody_meta = {'tracks': [], 'num_tracks': []}\n",
    "no_melody_meta = {'tracks': [], 'num_tracks': []}\n",
    "\n",
    "start_time = time()\n",
    "for folder_path in glob(data_path + '*'):\n",
    "    for file_path in glob(folder_path + '/*'):\n",
    "        try:\n",
    "            pm = pretty_midi.PrettyMIDI(file_path)\n",
    "            file_name = file_path.split('/')[-1]\n",
    "\n",
    "            # check whether 4/4 time sign\n",
    "            if not check_time_sign(pm):\n",
    "                continue\n",
    "\n",
    "            # check melody track\n",
    "            if file_name in new_melody_track_dict:\n",
    "                melody_track = new_melody_track_dict[file_name]['melody']\n",
    "                melody_count += 1\n",
    "            else:\n",
    "                melody_track = None\n",
    "                no_melody_count += 1\n",
    "\n",
    "            # keep tracks for only melody, piano, bass, guitar, drum, string\n",
    "            pm = unify_tracks(pm, melody_track)\n",
    "\n",
    "            # check the number of inst\n",
    "            if len(pm.instruments) < 2:\n",
    "                continue\n",
    "            \n",
    "            # keep meta info\n",
    "            inst_list = list(map(lambda x: x.name, pm.instruments))\n",
    "            \n",
    "            if melody_track == None:\n",
    "                no_melody_meta['tracks'].append(inst_list)\n",
    "                no_melody_meta['num_tracks'].append(len(pm.instruments))\n",
    "            else:\n",
    "                melody_meta['tracks'].append(inst_list)\n",
    "                melody_meta['num_tracks'].append(len(pm.instruments))\n",
    "            \n",
    "            # convert to pianoroll object\n",
    "            pianoroll, beat_start, event_time = get_pianoroll(pm, res=4)\n",
    "\n",
    "            # get phrase collection from pianoroll\n",
    "            window_pianoroll = get_window(pianoroll, res=4, bar=4)\n",
    "\n",
    "            # constraint & save\n",
    "            for i in range(window_pianoroll.shape[0]):\n",
    "                phrase = window_pianoroll[i]\n",
    "\n",
    "                # empty check\n",
    "                if check_empty_bar(phrase, thres=0.01, res=4):\n",
    "                    continue\n",
    "\n",
    "                save_file_name = 'phrase_' + str(phrase_count) + '.npy'\n",
    "\n",
    "                if melody_track == None:\n",
    "                    save_path = output_path + 'no_melody/' + save_file_name\n",
    "                else:\n",
    "                    save_path = output_path + 'melody/' + save_file_name\n",
    "\n",
    "                    # melody empty check\n",
    "                    if np.sum(phrase[:, :, MELODY_REL_NUM]) < 24:\n",
    "                        continue\n",
    "\n",
    "                # save file\n",
    "                with open(save_path, 'wb') as f:\n",
    "                    np.save(f, phrase)\n",
    "\n",
    "                phrase_count += 1\n",
    "                if phrase_count % 100000 == 0:\n",
    "                    print('I am on %d (%0.2f sec) - melody files: %d, no_melody files: %d' % (phrase_count, time()-start_time, melody_count, no_melody_count))\n",
    "                    start_time = time()            \n",
    "        except:\n",
    "            continue"
   ]
  },
  {
   "cell_type": "markdown",
   "metadata": {},
   "source": [
    "#### Preprocess Lakh Dataset"
   ]
  },
  {
   "cell_type": "code",
   "execution_count": null,
   "metadata": {},
   "outputs": [],
   "source": [
    "# visualize pianoroll\n",
    "plot_pianoroll(pianoroll[:256], save_path='', res=4, \n",
    "               SIZE=[10, 10], CHAR_FONT_SIZE=17, NUM_FONT_SIZE=13, LABEL_PAD=13)"
   ]
  }
 ],
 "metadata": {
  "interpreter": {
   "hash": "d4d1e4263499bec80672ea0156c357c1ee493ec2b1c70f0acce89fc37c4a6abe"
  },
  "kernelspec": {
   "display_name": "Python 3",
   "language": "python",
   "name": "python3"
  },
  "language_info": {
   "codemirror_mode": {
    "name": "ipython",
    "version": 3
   },
   "file_extension": ".py",
   "mimetype": "text/x-python",
   "name": "python",
   "nbconvert_exporter": "python",
   "pygments_lexer": "ipython3",
   "version": "3.8.8"
  }
 },
 "nbformat": 4,
 "nbformat_minor": 4
}
